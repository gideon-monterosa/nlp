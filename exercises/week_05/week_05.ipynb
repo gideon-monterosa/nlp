{
 "cells": [
  {
   "cell_type": "markdown",
   "metadata": {},
   "source": [
    "# Week 05\n",
    "\n",
    "Exercise:\n",
    "1. Explain what negative sampling is and what problem it addresses\n",
    "2. Count the number of weights in a RNN as a function of the number of input units and output units. Assume there is no bias and only one hidden layer (=> last years exam question).\n",
    "3. Watch Part II of [makemore](https://youtu.be/TCH_1BHY58I?si=kIEhEC_IKoEiag95) and code along. Functionalize and generalize the code in the video. Specifically:\n",
    "  - make the `embedding_dimension` ($C$ in video uses $2$ dimensional embeddings) and `latent_dimension` ($W_1$ in video is $100$ dimensional) parameters of your functions\n",
    "  - make the activation function a parameter of your functions (video uses `tanh`)\n",
    "  - perform a grid search to find the best hyper-parameters (e.g. see next cell):"
   ]
  },
  {
   "cell_type": "code",
   "execution_count": 1,
   "metadata": {},
   "outputs": [],
   "source": [
    "# param_grid = {\n",
    "    # 'embed_dim' : [8, 16, 32],\n",
    "    # 'latent_dim' : [8, 16, 32, 64],\n",
    "    # 'block_size' : [3],\n",
    "    # 'learning_rate' : [0.01, 0.1, 1],\n",
    "    # 'batch_size' : [128, 256, 512],\n",
    "    # 'activation' : [torch.nn.functional.tanh]\n",
    "# }"
   ]
  }
 ],
 "metadata": {
  "kernelspec": {
   "display_name": "py-nlp-exercises",
   "language": "python",
   "name": "python3"
  },
  "language_info": {
   "codemirror_mode": {
    "name": "ipython",
    "version": 3
   },
   "file_extension": ".py",
   "mimetype": "text/x-python",
   "name": "python",
   "nbconvert_exporter": "python",
   "pygments_lexer": "ipython3",
   "version": "3.12.2"
  }
 },
 "nbformat": 4,
 "nbformat_minor": 2
}
