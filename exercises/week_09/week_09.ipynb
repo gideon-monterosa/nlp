{
 "cells": [
  {
   "cell_type": "markdown",
   "id": "4e12a780",
   "metadata": {},
   "source": [
    "# Week 09"
   ]
  },
  {
   "cell_type": "markdown",
   "id": "071c7fe0",
   "metadata": {},
   "source": [
    "Implement the bootstrapping algorithm from the lectures:\n",
    "\n",
    "![](bootstrapping_algo.png)"
   ]
  },
  {
   "cell_type": "markdown",
   "id": "1f992f5c",
   "metadata": {},
   "source": [
    "You have two algorithms, which one is better? Both algorithms try to predict the sum of two dices, one of them randomly the other one using the *maximum likelihood*:\n",
    "\n",
    "- $\\mathcal A_1$: randomly guessing\n",
    "- $\\mathcal A_2$: return the most likely value\n"
   ]
  },
  {
   "cell_type": "markdown",
   "source": [
    "Chances of values when rolling two dices:\n",
    "\n",
    "| Sum \\(k\\) | \\# of outcomes | Probability \\(P(k)\\) |\n",
    "|:---------:|:--------------:|:--------------------:|\n",
    "| 2         | 1              | 1/36                 |\n",
    "| 3         | 2              | 2/36                 |\n",
    "| 4         | 3              | 3/36                 |\n",
    "| 5         | 4              | 4/36                 |\n",
    "| 6         | 5              | 5/36                 |\n",
    "| 7         | 6              | 6/36                 |\n",
    "| 8         | 5              | 5/36                 |\n",
    "| 9         | 4              | 4/36                 |\n",
    "| 10        | 3              | 3/36                 |\n",
    "| 11        | 2              | 2/36                 |\n",
    "| 12        | 1              | 1/36                 |\n",
    "\n",
    "so the most likely value is 7 and the 2nd Algorith will always guess 7."
   ],
   "metadata": {
    "collapsed": false
   },
   "id": "36d110ec925d81ac"
  },
  {
   "cell_type": "code",
   "execution_count": 3,
   "id": "857e90a0",
   "metadata": {
    "ExecuteTime": {
     "end_time": "2025-05-12T08:13:32.714138Z",
     "start_time": "2025-05-12T08:13:16.443852Z"
    }
   },
   "outputs": [
    {
     "name": "stdout",
     "output_type": "stream",
     "text": [
      "Accuracy of alg_1 (random guess):   0.1134\n",
      "Accuracy of alg_2 (always guess 7): 0.1672\n",
      "Observed acc2 − acc1:               0.0538\n",
      "Bootstrap p-value:                  0.0000\n"
     ]
    }
   ],
   "source": [
    "import numpy as np\n",
    "import random\n",
    "random.seed(0)\n",
    "\n",
    "N = 1000000\n",
    "\n",
    "def roll_two_dice():\n",
    "    return random.randint(1, 6) + random.randint(1, 6)\n",
    "\n",
    "def generate_dice_tosses(n = N):\n",
    "    return np.array([roll_two_dice() for _ in range(n)])\n",
    "\n",
    "def alg_1():\n",
    "    return roll_two_dice()\n",
    "\n",
    "def alg_2():\n",
    "    return 7\n",
    "\n",
    "def bootstrap_compare(test_set, b=1000):\n",
    "    pred1 = np.array([alg_1() for _ in range(N)])\n",
    "    pred2 = np.array([alg_2() for _ in range(N)])\n",
    "\n",
    "    acc1 = np.mean(pred1 == test_set)\n",
    "    acc2 = np.mean(pred2 == test_set)\n",
    "\n",
    "    d = (pred2 == test_set).astype(int) - (pred1 == test_set).astype(int)\n",
    "    delta_obs = np.mean(d)\n",
    "\n",
    "    count = 0\n",
    "    for _ in range(b):\n",
    "        sample = np.random.choice(d, size=N, replace=True)\n",
    "        if np.mean(sample) >= 2 * delta_obs:\n",
    "            count += 1\n",
    "    p_value = count / b\n",
    "\n",
    "    return acc1, acc2, delta_obs, p_value\n",
    "\n",
    "test = generate_dice_tosses()\n",
    "\n",
    "acc1, acc2, delta_obs, p_val = bootstrap_compare(test, b=1000)\n",
    "\n",
    "# 3) Print the results\n",
    "print(f\"Accuracy of alg_1 (random guess):   {acc1:.4f}\")\n",
    "print(f\"Accuracy of alg_2 (always guess 7): {acc2:.4f}\")\n",
    "print(f\"Observed delta acc2 − acc1:         {delta_obs:.4f}\")\n",
    "print(f\"Bootstrap p-value:                  {p_val:.4f}\")"
   ]
  },
  {
   "cell_type": "markdown",
   "source": [
    "der Algorithmus welcher immer 7 ist durchschnittlich in ca 5 % der Fälle besser als der zufällige Algorithmus.\n",
    "\n",
    "der p-value von 0 Zeigt, dass dieses Ergebnis statistisch sehr signifikant ist."
   ],
   "metadata": {
    "collapsed": false
   },
   "id": "b205e3e0a885f311"
  },
  {
   "cell_type": "markdown",
   "id": "6763d352",
   "metadata": {},
   "source": [
    "To do:\n",
    "\n",
    "- Either derive the most likely value by hand or simulate and count.\n",
    "- Implement the bootstrapping algorithm and compare the two algorithms."
   ]
  }
 ],
 "metadata": {
  "kernelspec": {
   "display_name": "py-nlp-exercises",
   "language": "python",
   "name": "python3"
  },
  "language_info": {
   "codemirror_mode": {
    "name": "ipython",
    "version": 3
   },
   "file_extension": ".py",
   "mimetype": "text/x-python",
   "name": "python",
   "nbconvert_exporter": "python",
   "pygments_lexer": "ipython3",
   "version": "3.12.2"
  }
 },
 "nbformat": 4,
 "nbformat_minor": 5
}
