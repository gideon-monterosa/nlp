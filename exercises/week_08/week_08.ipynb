{
 "cells": [
  {
   "cell_type": "markdown",
   "metadata": {},
   "source": [
    "# Week 08\n",
    "\n",
    "1. Count number of trainable parameters in $\\text{BERT}_{\\text{LARGE}}$\n",
    "2. Go through this [tutorial](https://uvadlc-notebooks.readthedocs.io/en/latest/tutorial_notebooks/tutorial6/Transformers_and_MHAttention.html) until *Set Anomaly Detection*\n",
    "3. Read about [KV Caching](https://neptune.ai/blog/transformers-key-value-caching):\n",
    "    - What is it?\n",
    "    - Why is it useful?\n",
    "    - How does it work?\n",
    "    - Make the code in the tutorial run"
   ]
  }
 ],
 "metadata": {
  "kernelspec": {
   "display_name": "py-nlp-exercises",
   "language": "python",
   "name": "python3"
  },
  "language_info": {
   "codemirror_mode": {
    "name": "ipython",
    "version": 3
   },
   "file_extension": ".py",
   "mimetype": "text/x-python",
   "name": "python",
   "nbconvert_exporter": "python",
   "pygments_lexer": "ipython3",
   "version": "3.12.2"
  }
 },
 "nbformat": 4,
 "nbformat_minor": 2
}
